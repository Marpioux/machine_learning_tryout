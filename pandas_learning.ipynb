{
 "cells": [
  {
   "cell_type": "code",
   "execution_count": 2,
   "id": "5e951c83",
   "metadata": {},
   "outputs": [],
   "source": [
    "from pandas import *"
   ]
  },
  {
   "cell_type": "code",
   "execution_count": null,
   "id": "ee477b4b",
   "metadata": {},
   "outputs": [
    {
     "name": "stdout",
     "output_type": "stream",
     "text": [
      "   Residents     Capital\n",
      "0          8      Geneve\n",
      "1         70       Paris\n",
      "2        320  Washington\n",
      "3       1200      Pequin\n"
     ]
    }
   ],
   "source": [
    "##First DataFrame\n",
    "data = {\n",
    "    'Residents' : [8, 70, 320, 1200],\n",
    "    'Capital' : [\"Geneve\", \"Paris\", \"Washington\", \"Pequin\"]\n",
    "}\n",
    "df = DataFrame(data)\n",
    "print(df)\n"
   ]
  },
  {
   "cell_type": "code",
   "execution_count": 4,
   "id": "f9bd3864",
   "metadata": {},
   "outputs": [
    {
     "name": "stdout",
     "output_type": "stream",
     "text": [
      "             Residents     Capital\n",
      "Switzerland          8      Geneve\n",
      "France              70       Paris\n",
      "USA                320  Washington\n",
      "China             1200      Pequin\n"
     ]
    }
   ],
   "source": [
    "#Add indexes\n",
    "index = [\"Switzerland\", \"France\", \"USA\", \"China\"]\n",
    "df = DataFrame(data, index=index)\n",
    "print(df)"
   ]
  }
 ],
 "metadata": {
  "kernelspec": {
   "display_name": "base",
   "language": "python",
   "name": "python3"
  },
  "language_info": {
   "codemirror_mode": {
    "name": "ipython",
    "version": 3
   },
   "file_extension": ".py",
   "mimetype": "text/x-python",
   "name": "python",
   "nbconvert_exporter": "python",
   "pygments_lexer": "ipython3",
   "version": "3.12.7"
  }
 },
 "nbformat": 4,
 "nbformat_minor": 5
}
