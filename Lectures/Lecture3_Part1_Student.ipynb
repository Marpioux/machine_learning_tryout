{
 "cells": [
  {
   "cell_type": "markdown",
   "id": "31e8c922",
   "metadata": {},
   "source": [
    "\n",
    "\n",
    "\n",
    "\n",
    "---\n",
    "\n",
    "# Session 3. Linear Regression, Logistic Regression and K-Nearest Neighbors (Part 1) \n",
    "---\n",
    "\n",
    "\n",
    "\n",
    "# Principle of Linear Regression (Regression algorithm)\n",
    "\n",
    "- Linear regression is based on **a linear relationship** between the dependent variable (Y) and the independent variables (X).\n",
    "- This relationship is represented by a linear equation of the form : \n",
    "$$\n",
    "Y = \\beta_0 + \\beta_1*X_1 + \\beta_2*X_2 + ... + \\beta_n*X_n + \\varepsilon\n",
    "$$\n",
    "Where\n",
    "- $Y$ is the dependent variable,\n",
    "- $X_1, X_2, ..., X_n $ are the independent variables,\n",
    "- $\\beta_0, \\beta_1, \\beta_2, ..., \\beta_n $ are the regression coefficients, \n",
    "- $\\beta_0$ is the interception coefficient :  represents the value of the dependent variable (Y) when the independent variables=0 \n",
    "- $\\beta_1$, $\\beta_1$.. slope coefficients\n",
    "- $\\varepsilon $ is the error term. \n"
   ]
  },
  {
   "cell_type": "markdown",
   "id": "b05bbc97",
   "metadata": {},
   "source": [
    "##### Importing libraries"
   ]
  },
  {
   "cell_type": "code",
   "execution_count": 1,
   "id": "13515815",
   "metadata": {},
   "outputs": [],
   "source": [
    "# Python library used for manipulating numerical data\n",
    "import numpy as np\n",
    "\n",
    "# Python library used for creating visualizations \n",
    "import matplotlib.pyplot as plt \n",
    "\n",
    "# Python library used for ML algorithms\n",
    "from sklearn.linear_model import LinearRegression"
   ]
  },
  {
   "cell_type": "markdown",
   "id": "c7ab07c5",
   "metadata": {},
   "source": [
    "##### Creation of the training data"
   ]
  },
  {
   "cell_type": "code",
   "execution_count": 2,
   "id": "ade4e193",
   "metadata": {},
   "outputs": [],
   "source": [
    "# Days\n",
    "# creates a 1D NumPy array, then reshape it into a 2D Numpy Array (matrix) of form (5, 1) :5 rows and 1 column \n",
    "days = np.array([1, 2, 3, 4, 5]).reshape(-1, 1)  \n",
    "# Temperatures\n",
    "temperatures = np.array([20, 22, 25, 24, 23]) "
   ]
  },
  {
   "cell_type": "markdown",
   "id": "3ac03be7",
   "metadata": {},
   "source": [
    "##### Linear regression model training"
   ]
  },
  {
   "cell_type": "code",
   "execution_count": 3,
   "id": "6c960bc4",
   "metadata": {},
   "outputs": [
    {
     "data": {
      "text/plain": [
       "LinearRegression()"
      ]
     },
     "execution_count": 3,
     "metadata": {},
     "output_type": "execute_result"
    }
   ],
   "source": [
    "modele_regression = LinearRegression()\n",
    "#training the algorithm by passing days et temperatures\n",
    "modele_regression.fit(days, temperatures) "
   ]
  },
  {
   "cell_type": "markdown",
   "id": "26c69261",
   "metadata": {},
   "source": [
    "#####  Displaying regression coefficients"
   ]
  },
  {
   "cell_type": "code",
   "execution_count": 10,
   "id": "94879170",
   "metadata": {},
   "outputs": [
    {
     "name": "stdout",
     "output_type": "stream",
     "text": [
      " The interception coefficient :  20.4\n",
      "The slope coefficients: [0.8]\n"
     ]
    }
   ],
   "source": [
    "print(\" The interception coefficient : \", modele_regression.intercept_)\n",
    "print(\"The slope coefficients:\", modele_regression.coef_)"
   ]
  },
  {
   "cell_type": "markdown",
   "id": "28e7920a",
   "metadata": {},
   "source": [
    "##### Make temperature predictions and Display the error term : actual value - predicted value"
   ]
  },
  {
   "cell_type": "code",
   "execution_count": 11,
   "id": "98014eeb",
   "metadata": {},
   "outputs": [
    {
     "name": "stdout",
     "output_type": "stream",
     "text": [
      "[21.2 22.  22.8 23.6 24.4]\n",
      "Error terms: [-1.2  0.   2.2  0.4 -1.4]\n"
     ]
    }
   ],
   "source": [
    "# predicted values\n",
    "\n",
    "tempeatures_predicted =modele_regression.predict(days)\n",
    "print (tempeatures_predicted)\n",
    "\n",
    "# Actual values - predicted values\n",
    "errors = temperatures - tempeatures_predicted\n",
    "\n",
    "print(\"Error terms:\", errors)"
   ]
  },
  {
   "cell_type": "markdown",
   "id": "a2640455",
   "metadata": {},
   "source": [
    "##### Linear regression display"
   ]
  },
  {
   "cell_type": "code",
   "execution_count": 12,
   "id": "ce7b1a4e",
   "metadata": {},
   "outputs": [
    {
     "data": {
      "image/png": "[encoded data removed]",
      "text/plain": [
       "<Figure size 432x288 with 1 Axes>"
      ]
     },
     "metadata": {
      "needs_background": "light"
     },
     "output_type": "display_data"
    }
   ],
   "source": [
    "# We draw a linear regression with days on the x-axis and temperatures on the y-axis \n",
    "# blue dots represent training data \n",
    "\n",
    "plt.subplot(1, 2, 2)\n",
    "plt.scatter(days, temperatures, color='blue', label='Training data')\n",
    "plt.plot(days, modele_regression.predict(days), color='red', linestyle='--', label='Linear Regression')\n",
    "plt.xlabel('Days')\n",
    "plt.ylabel('Temperatures')\n",
    "plt.title('Linear Regression')\n",
    "plt.legend()\n",
    "plt.tight_layout()\n",
    "plt.show()"
   ]
  },
  {
   "cell_type": "markdown",
   "id": "bae407f2",
   "metadata": {},
   "source": [
    "# Principle of Logistic Regression (classification algorithm)"
   ]
  },
  {
   "cell_type": "markdown",
   "id": "76d9a36e",
   "metadata": {},
   "source": [
    "- Logistic regression is used to model the relationship between a **dependent variable (Y)** and **independent** variables.\n",
    "- Unlike linear regression, logistic regression models **the probability of Y being in a certain class** (instead of predicting a continuous value as in linear regression).\n",
    "- The logistic regression equation is based on the logistic (or sigmoid) function, which transforms a linear value into a probability between 0 and 1.\n",
    "\n",
    "$$P(Y=1|X) = 1 / (1 + e^{-(β₀ + β₁*X₁ + β₂*X₂ + ... + βₙ*Xₙ)}) $$\n",
    "   \n"
   ]
  },
  {
   "cell_type": "markdown",
   "id": "364f2749",
   "metadata": {},
   "source": [
    "#### Example: Predicting temperature class by day\n",
    "\n",
    "##### Importing libraries"
   ]
  },
  {
   "cell_type": "code",
   "execution_count": 17,
   "id": "a1f12e3a",
   "metadata": {},
   "outputs": [],
   "source": [
    "import numpy as np\n",
    "import matplotlib.pyplot as plt\n",
    "from sklearn.linear_model import LogisticRegression"
   ]
  },
  {
   "cell_type": "markdown",
   "id": "040b1853",
   "metadata": {},
   "source": [
    "##### Creating model training data"
   ]
  },
  {
   "cell_type": "code",
   "execution_count": 15,
   "id": "a2ed3640",
   "metadata": {},
   "outputs": [],
   "source": [
    "# Creating an example of days and also creating the corresponding temperatures \n",
    "# Days\n",
    "days = np.array([1, 2, 3, 4, 5]).reshape(-1, 1)  #creates a NumPy array, then remodels it into a matrix of form (5, 1) :5 rows and 1 column \n",
    "\n",
    "# Temperatures\n",
    "temperatures = np.array([20, 22, 25, 24, 23]) "
   ]
  },
  {
   "cell_type": "markdown",
   "id": "9db9ac52",
   "metadata": {},
   "source": [
    "##### Creating temperature classes based on a threshold and training the logistic regression model "
   ]
  },
  {
   "cell_type": "code",
   "execution_count": 18,
   "id": "62f6ee7f",
   "metadata": {},
   "outputs": [
    {
     "data": {
      "text/plain": [
       "LogisticRegression()"
      ]
     },
     "execution_count": 18,
     "metadata": {},
     "output_type": "execute_result"
    }
   ],
   "source": [
    "'''Define a threshold and transform temperatures into classes. \n",
    "If the temperature is greater than a threshold, then the temperature is high (class 1) \n",
    "and if the temperature is less then it is low (class 0). '''\n",
    "\n",
    "threshold = 22\n",
    "temperature_classes = np.where(temperatures > threshold, 1, 0)\n",
    "\n",
    "#Define and train our model\n",
    "regression_logistique = LogisticRegression()\n",
    "regression_logistique.fit(days, temperature_classes)"
   ]
  },
  {
   "cell_type": "markdown",
   "id": "6c2d4435",
   "metadata": {},
   "source": [
    "##### Display of temperature classes and probabilities of the \"high\" class with the logistic regression model "
   ]
  },
  {
   "cell_type": "code",
   "execution_count": 19,
   "id": "7b73ad8b",
   "metadata": {},
   "outputs": [
    {
     "name": "stdout",
     "output_type": "stream",
     "text": [
      "[[1]\n",
      " [2]\n",
      " [3]\n",
      " [4]\n",
      " [5]]\n",
      "[0 0 1 1 1]\n",
      "[0.18440259 0.39178023 0.64728563 0.83944352 0.93708903]\n",
      "For the day 1 the predicted temperature class is 'low'.\n",
      "For the day 2 the predicted temperature class is 'low'.\n",
      "For the day 3  the predicted temperature class is 'high'.\n",
      "For the day 4  the predicted temperature class is 'high'.\n",
      "For the day 5  the predicted temperature class is 'high'.\n"
     ]
    }
   ],
   "source": [
    "# high class labelled 1\n",
    "# low class labelled 0 \n",
    "#for the example of days defined above, we predict the probabilities of the high class (P(Y=1))\n",
    "\n",
    "probabilites_logistic= regression_logistique.predict_proba(days)[:, 1]\n",
    "print (days)\n",
    "print(temperature_classes)\n",
    "print (probabilites_logistic)\n",
    "\n",
    "#If probability >=0.5 then class is high otherwise class is low\n",
    "for i in range (5):\n",
    "    if probabilites_logistic [i] >= 0.5:\n",
    "        print(\"For the day\",i+1,\" the predicted temperature class is 'high'.\")\n",
    "    else:\n",
    "        print(\"For the day\",i+1,\"the predicted temperature class is 'low'.\")  "
   ]
  },
  {
   "cell_type": "markdown",
   "id": "c0c0bf4b",
   "metadata": {},
   "source": [
    "##### Display of temperature classes and probabilities of the \"high\" class with the logistic regression model "
   ]
  },
  {
   "cell_type": "code",
   "execution_count": 20,
   "id": "b6be4a1b",
   "metadata": {},
   "outputs": [
    {
     "name": "stdout",
     "output_type": "stream",
     "text": [
      "[[1]\n",
      " [2]\n",
      " [3]\n",
      " [4]\n",
      " [5]]\n",
      "[0 0 1 1 1]\n",
      "[0.81559741 0.60821977 0.35271437 0.16055648 0.06291097]\n",
      "For the day 1  the predicted temperature class is 'low'.\n",
      "For the day 2  the predicted temperature class is 'low'.\n",
      "For the day 3 the predicted temperature class is 'high'.\n",
      "For the day 4 the predicted temperature class is 'high'.\n",
      "For the day 5 the predicted temperature class is 'high'.\n"
     ]
    }
   ],
   "source": [
    "#for the example of days defined above, we predict the probabilities of the low class (P(Y=0))\n",
    "\n",
    "probabilites_logistic= regression_logistique.predict_proba(days)[:, 0]\n",
    "print (days)\n",
    "print(temperature_classes)\n",
    "print (probabilites_logistic)\n",
    "\n",
    "#If probability >=0.5 then class is high otherwise class is low\n",
    "for i in range (5):\n",
    "    if probabilites_logistic [i] >= 0.5:\n",
    "        print(\"For the day\",i+1,\" the predicted temperature class is 'low'.\")\n",
    "    else:\n",
    "        print(\"For the day\",i+1,\"the predicted temperature class is 'high'.\") "
   ]
  },
  {
   "cell_type": "markdown",
   "id": "d460cb66",
   "metadata": {},
   "source": [
    "##### Results display"
   ]
  },
  {
   "cell_type": "code",
   "execution_count": 21,
   "id": "bae1b68a",
   "metadata": {},
   "outputs": [
    {
     "data": {
      "image/png": "[encoded data removed]",
      "text/plain": [
       "<Figure size 432x288 with 1 Axes>"
      ]
     },
     "metadata": {
      "needs_background": "light"
     },
     "output_type": "display_data"
    }
   ],
   "source": [
    "# We draw a logistic regression with days on the x-axis and the Probability of \"high\" class on the y-axis \n",
    "# blue dots represent training data \n",
    "\n",
    "plt.subplot(1, 2, 2)\n",
    "plt.scatter(days, temperature_classes, color='blue', label='Training Data')\n",
    "plt.plot(days, probabilites_logistic, color='green', linestyle='--', label='Logistic Regression')\n",
    "plt.xlabel('Days')\n",
    "plt.ylabel('Probability of \"high\" class\"')\n",
    "plt.title('Logistic Regression')\n",
    "plt.legend()\n",
    "plt.tight_layout()\n",
    "plt.show()"
   ]
  },
  {
   "cell_type": "markdown",
   "id": "9b236415",
   "metadata": {},
   "source": [
    "##### Make temperature predictions"
   ]
  },
  {
   "cell_type": "code",
   "execution_count": 22,
   "id": "e70d3c9e",
   "metadata": {},
   "outputs": [
    {
     "name": "stdout",
     "output_type": "stream",
     "text": [
      "Probability of 'high' class: [1.         0.07352485 1.         0.39178023]\n",
      "The predicted temperature class is 'high'.\n",
      "The predicted temperature class is 'low'.\n",
      "The predicted temperature class is 'high'.\n",
      "The predicted temperature class is 'low'.\n"
     ]
    }
   ],
   "source": [
    "# We predict the temperatures for these days, for example \n",
    "\n",
    "day_prediction = np.array([50, 0, 100, 2]).reshape(-1, 1) \n",
    "\n",
    "# Prediction of \"high\" class probability (P(Y=1))\n",
    "probabilite_prediction = regression_logistique.predict_proba(day_prediction)[:, 1]\n",
    "\n",
    "print(\"Probability of 'high' class:\", probabilite_prediction)\n",
    "\n",
    "for i in range (4):\n",
    "    if probabilite_prediction [i]>= 0.5:\n",
    "        print(\"The predicted temperature class is 'high'.\")\n",
    "    else:\n",
    "        print(\"The predicted temperature class is 'low'.\")  \n"
   ]
  },
  {
   "cell_type": "markdown",
   "id": "11c5fe0a",
   "metadata": {},
   "source": [
    "\n",
    "# KNN principle (classification and regression algorithm)"
   ]
  },
  {
   "cell_type": "markdown",
   "id": "0ed67931",
   "metadata": {},
   "source": [
    "##### KNN can be used for classification and regression\n",
    "\n",
    "a) **Calculating distances**  :\n",
    "For each point in the dataset, the distance between that point and the query point (for which we want to predict the class) is calculated. The distance can be measured in various metrics, such as Euclidean distance, Manhattan distance, etc.\n",
    "\n",
    "\n",
    "b)**Selection of nearest neighbors** :\n",
    "The k points closest to the query point are selected according to their distance. These points are called nearest neighbors.\n",
    "\n",
    "\n",
    "c) \n",
    "**For classification** Majority vote for classification:\n",
    "The most frequent class among the k neighbors is assigned to the query point. That is, each neighbor \"votes\" for its respective class, and the class with the highest number of votes is chosen as the prediction.\n",
    "\n",
    "\n",
    "**For regression** The Mean (median):\n",
    "the predicted value for the question mark is the mean (or median) of the target values of the k nearest neighbors."
   ]
  },
  {
   "cell_type": "markdown",
   "id": "bb991c17",
   "metadata": {},
   "source": [
    "#### Example manually \n",
    "\n",
    "- Temperature classes: [low, low, high, high, high].\n",
    "- Prediction of the temperature of the day 6: \n",
    "            - Step 0. Choosing the hyperparameter k=3\n",
    "            - Step1. Distance calculation\n",
    "               - Calculate distance (6,5)=1 \n",
    "               - Calculate distance (6,4)=2 \n",
    "               - Calculate distance (6,3)=3 \n",
    "               - Calculate distance (6,2)=4\n",
    "               - Calculate distance (6,1)=5\n",
    "            - Step2. Majority vote "
   ]
  },
  {
   "cell_type": "code",
   "execution_count": 24,
   "id": "d45105f4",
   "metadata": {},
   "outputs": [],
   "source": [
    "from sklearn.neighbors import KNeighborsClassifier"
   ]
  },
  {
   "cell_type": "code",
   "execution_count": 27,
   "id": "3de2690a",
   "metadata": {},
   "outputs": [
    {
     "name": "stdout",
     "output_type": "stream",
     "text": [
      "[1 0 1 0]\n",
      "For the day 0  the predicted temperature class is 'high'.\n",
      "For the day 1 the predicted temperature class is 'low'.\n",
      "For the day 2  the predicted temperature class is 'high'.\n",
      "For the day 3 the predicted temperature class is 'low'.\n"
     ]
    }
   ],
   "source": [
    "# KNN model creation and training\n",
    "knn = KNeighborsClassifier(n_neighbors=3)\n",
    "knn.fit(days, temperature_classes)\n",
    "\n",
    "day_prediction = np.array([6, 0, 100, 2]).reshape(-1, 1) \n",
    "classe_prediction = knn.predict(day_prediction)[:]\n",
    "\n",
    "print(classe_prediction)\n",
    "for i in range (4):\n",
    "    if classe_prediction [i] == 1:\n",
    "        print(\"For the day\",i,\" the predicted temperature class is 'high'.\")\n",
    "    else:\n",
    "        print(\"For the day\",i,\"the predicted temperature class is 'low'.\")    \n"
   ]
  },
  {
   "cell_type": "markdown",
   "id": "765b31e8",
   "metadata": {},
   "source": [
    "#### Exercice \n",
    "\n",
    "The exercise involves using the k-nearest neighbors (k-NN) algorithm to classify a new instance called X6. To do this, we use a training dataset that contains multiple instances with values for different numerical attributes (A1 to A5) as well as their respective classes.\n",
    "\n",
    "Here are the detailed steps of the exercise:\n",
    "\n",
    "- Training Dataset: We have a dataset that contains several instances (X1 to X5), each characterized by its values for the numerical attributes A1 to A5, along with their respective classes.\n",
    "\n",
    "| Instance | A1 | A2 | A3 | A4 | A5 | Class |\n",
    "|----------|----|----|----|----|----|-------|\n",
    "| X1       | 3  | 5  | 4  | 6  | 1  | 1     |\n",
    "| X2       | 4  | 6  | 10 | 3  | 2  | 2     |\n",
    "| X3       | 8  | 3  | 4  | 2  | 6  | 3     |\n",
    "| X4       | 2  | 1  | 4  | 3  | 6  | 3     |\n",
    "| X5       | 2  | 5  | 1  | 4  | 8  | 2     |\n",
    "\n",
    "\n",
    "- Instance to Classify (X6): \n",
    "\n",
    "| Instance | A1 | A2 | A3 | A4 | A5 |\n",
    "|----------|----|----|----|----|----|\n",
    "| X6       | 3  | 12 | 4  | 7  | 8  |\n",
    "\n",
    "\n",
    "In this exercise, you'll have to perform calculations manually using k-NN with k equal to 1 and k equal to 3, based on this training data set and using the eucliden distance \n",
    " $(sqrt((p1 - q1)^2 + (p2 - q2)^2 + ... + (pn - qn)^2))$\n"
   ]
  }
 ],
 "metadata": {
  "kernelspec": {
   "display_name": "Python 3 (ipykernel)",
   "language": "python",
   "name": "python3"
  },
  "language_info": {
   "codemirror_mode": {
    "name": "ipython",
    "version": 3
   },
   "file_extension": ".py",
   "mimetype": "text/x-python",
   "name": "python",
   "nbconvert_exporter": "python",
   "pygments_lexer": "ipython3",
   "version": "3.9.12"
  }
 },
 "nbformat": 4,
 "nbformat_minor": 5
}
